{
 "cells": [
  {
   "cell_type": "markdown",
   "metadata": {},
   "source": [
    "---\n",
    "layout: post\n",
    "title: \"R function recap by a simple example\"\n",
    "date: 2016-06-12 21:00:00\n",
    "category: R\n",
    "tags: R\n",
    "---\n",
    "\n",
    "## Overview\n",
    "Since I move to python for data science, I haven't used R for a while. I tried to recap the R skill, here is the memo for recap the way I created a simple function.\n",
    "\n",
    "\n"
   ]
  },
  {
   "cell_type": "markdown",
   "metadata": {},
   "source": [
    "## Problem\n",
    "When I met the following piece of code, just wonder how I can practice the DRY(don't repeat your self)."
   ]
  },
  {
   "cell_type": "code",
   "execution_count": 51,
   "metadata": {
    "collapsed": false
   },
   "outputs": [
    {
     "name": "stdout",
     "output_type": "stream",
     "text": [
      " pregnant   glucose diastolic   triceps   insulin       bmi  diabetes       age \n",
      "        0         5        35       227       374        11         0         0 \n",
      "     test \n",
      "        0 \n"
     ]
    }
   ],
   "source": [
    "library(faraway)\n",
    "pima$diastolic[pima$diastolic == 0] <- NA\n",
    "pima$glucose[pima$glucose == 0] <- NA\n",
    "pima$triceps[pima$triceps == 0] <- NA\n",
    "pima$insulin[pima$insulin == 0] <- NA\n",
    "pima$bmi[pima$bmi == 0] <- NA\n",
    "na.counts <- sapply(pima, function(x) sum(is.na(x)))\n",
    "print(na.counts)"
   ]
  },
  {
   "cell_type": "markdown",
   "metadata": {},
   "source": [
    "## Test function\n",
    "Before we create funtion to remove duplicates, write a test function for validation and reload the pima data."
   ]
  },
  {
   "cell_type": "code",
   "execution_count": 52,
   "metadata": {
    "collapsed": false
   },
   "outputs": [
    {
     "name": "stdout",
     "output_type": "stream",
     "text": [
      " pregnant   glucose diastolic   triceps   insulin       bmi  diabetes       age \n",
      "        0         0         0         0         0         0         0         0 \n",
      "     test \n",
      "        0 \n"
     ]
    }
   ],
   "source": [
    "#make a test function\n",
    "library(RUnit)\n",
    "test_na <- function(ds){\n",
    "   nas <- sapply(ds, function(x) sum(is.na(x)))\n",
    "   if (checkEquals(na.counts, nas)){\n",
    "       print(\"NA count is same as no function version.\")\n",
    "   }else{\n",
    "       \n",
    "       print(\"NA count is different from function version. Check the implementation!\")\n",
    "   }\n",
    "}\n",
    "#reload original data set\n",
    "rm(pima)\n",
    "data(pima)\n",
    "origin.na.count <- sapply(pima, function(x) sum(is.na(x)))\n",
    "print(origin.na.count)"
   ]
  },
  {
   "cell_type": "markdown",
   "metadata": {},
   "source": [
    "## First function\n",
    "My first try is to define a zero.to.na function with data frame and variable names as parameters."
   ]
  },
  {
   "cell_type": "code",
   "execution_count": 46,
   "metadata": {
    "collapsed": false
   },
   "outputs": [
    {
     "name": "stdout",
     "output_type": "stream",
     "text": [
      "[1] \"NA count is same as no function version.\"\n"
     ]
    }
   ],
   "source": [
    "zero.to.na <- function(ds, vars) {\n",
    "  for( var in vars){\n",
    "    ds[[var]][ds[[var]]==0] <-NA\n",
    "  }\n",
    "  ds\n",
    "}\n",
    "\n",
    "vars <- c(\"diastolic\",\"glucose\",\"triceps\",\"insulin\",\"bmi\")\n",
    "ds <- zero.to.na(pima, vars)\n",
    "test_na(ds)"
   ]
  },
  {
   "cell_type": "markdown",
   "metadata": {},
   "source": [
    "## Second function\n",
    "We can also remove the hard-code of zero to make this function more flexible."
   ]
  },
  {
   "cell_type": "code",
   "execution_count": 47,
   "metadata": {
    "collapsed": false
   },
   "outputs": [
    {
     "name": "stdout",
     "output_type": "stream",
     "text": [
      "[1] \"NA count is same as no function version.\"\n"
     ]
    }
   ],
   "source": [
    "#reload original data set\n",
    "rm(pima)\n",
    "data(pima)\n",
    "replace.na.value <- function(ds, vars, navalue){\n",
    "  for( var in vars){\n",
    "    ds[[var]][ds[[var]]==navalue] <-NA\n",
    "  }\n",
    "  ds\n",
    "}\n",
    "\n",
    "ds1 <- replace.na.value(pima,  vars, 0)\n",
    "test_na(ds1)"
   ]
  },
  {
   "cell_type": "markdown",
   "metadata": {},
   "source": [
    "## Third function\n",
    "We can also use closure to create functions for different na values."
   ]
  },
  {
   "cell_type": "code",
   "execution_count": 48,
   "metadata": {
    "collapsed": false
   },
   "outputs": [
    {
     "name": "stdout",
     "output_type": "stream",
     "text": [
      "[1] \"NA count is same as no function version.\"\n"
     ]
    }
   ],
   "source": [
    "#reload original data set\n",
    "rm(pima)\n",
    "data(pima)\n",
    "replace.na.value <- function(navalue){\n",
    "  function(ds, vars){\n",
    "      for( var in vars){\n",
    "        ds[[var]][ds[[var]]==navalue] <-NA\n",
    "      }\n",
    "      ds\n",
    "  }\n",
    "}\n",
    "\n",
    "\n",
    "replace.na.zero <- replace.na.value(0)\n",
    "ds2 <- replace.na.zero(pima,  vars)\n",
    "test_na(ds2)"
   ]
  },
  {
   "cell_type": "markdown",
   "metadata": {},
   "source": [
    "## Last function\n",
    "We can remove the constraint of the assumption of a data frame input."
   ]
  },
  {
   "cell_type": "code",
   "execution_count": 49,
   "metadata": {
    "collapsed": false
   },
   "outputs": [
    {
     "name": "stdout",
     "output_type": "stream",
     "text": [
      "[1] \"NA count is same as no function version.\"\n"
     ]
    }
   ],
   "source": [
    "#reload original data set\n",
    "rm(pima)\n",
    "data(pima)\n",
    "\n",
    "replace.na.value <- function(navalue){\n",
    "  function(x){\n",
    "    x[x==navalue] <- NA\n",
    "    x\n",
    "  }\n",
    "}\n",
    "replace.na.zero <- replace.na.value(0)\n",
    "pima[vars] <- replace.na.zero(pima[vars] )\n",
    "test_na(pima)"
   ]
  },
  {
   "cell_type": "markdown",
   "metadata": {},
   "source": [
    "## Next Step\n",
    "There are lots of routine tasks for data wrangling, we can create our own utils to practice the DRY principle."
   ]
  }
 ],
 "metadata": {
  "kernelspec": {
   "display_name": "R",
   "language": "R",
   "name": "ir"
  },
  "language_info": {
   "codemirror_mode": "r",
   "file_extension": ".r",
   "mimetype": "text/x-r-source",
   "name": "R",
   "pygments_lexer": "r",
   "version": "3.2.2"
  }
 },
 "nbformat": 4,
 "nbformat_minor": 0
}
